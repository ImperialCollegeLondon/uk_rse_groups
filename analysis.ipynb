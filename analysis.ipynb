{
 "cells": [
  {
   "cell_type": "code",
   "execution_count": 1,
   "id": "c12e978f",
   "metadata": {},
   "outputs": [],
   "source": [
    "%matplotlib inline"
   ]
  },
  {
   "cell_type": "code",
   "execution_count": 2,
   "id": "d30bec14",
   "metadata": {},
   "outputs": [],
   "source": [
    "import pandas\n",
    "\n",
    "data = pandas.read_csv(\"/mnt/shared/UK_RSE_group_size_survey.csv\")"
   ]
  },
  {
   "cell_type": "code",
   "execution_count": 3,
   "id": "0e602f19",
   "metadata": {},
   "outputs": [
    {
     "data": {
      "text/html": [
       "<div>\n",
       "<style scoped>\n",
       "    .dataframe tbody tr th:only-of-type {\n",
       "        vertical-align: middle;\n",
       "    }\n",
       "\n",
       "    .dataframe tbody tr th {\n",
       "        vertical-align: top;\n",
       "    }\n",
       "\n",
       "    .dataframe thead th {\n",
       "        text-align: right;\n",
       "    }\n",
       "</style>\n",
       "<table border=\"1\" class=\"dataframe\">\n",
       "  <thead>\n",
       "    <tr style=\"text-align: right;\">\n",
       "      <th></th>\n",
       "      <th>Institution</th>\n",
       "      <th>Total FTEs</th>\n",
       "      <th>Project FTEs</th>\n",
       "      <th>Training FTEs</th>\n",
       "      <th>Cost recovery</th>\n",
       "      <th>Open-ended FTE</th>\n",
       "      <th>Funding body grants</th>\n",
       "      <th>Research grants and contracts</th>\n",
       "    </tr>\n",
       "  </thead>\n",
       "  <tbody>\n",
       "    <tr>\n",
       "      <th>0</th>\n",
       "      <td>UCL</td>\n",
       "      <td>30.0</td>\n",
       "      <td>NaN</td>\n",
       "      <td>NaN</td>\n",
       "      <td>100.0</td>\n",
       "      <td>30.0</td>\n",
       "      <td>227992</td>\n",
       "      <td>467714</td>\n",
       "    </tr>\n",
       "    <tr>\n",
       "      <th>1</th>\n",
       "      <td>Southampton</td>\n",
       "      <td>8.0</td>\n",
       "      <td>NaN</td>\n",
       "      <td>NaN</td>\n",
       "      <td>100.0</td>\n",
       "      <td>3.0</td>\n",
       "      <td>78491</td>\n",
       "      <td>119950</td>\n",
       "    </tr>\n",
       "    <tr>\n",
       "      <th>2</th>\n",
       "      <td>Bristol</td>\n",
       "      <td>10.5</td>\n",
       "      <td>NaN</td>\n",
       "      <td>NaN</td>\n",
       "      <td>100.0</td>\n",
       "      <td>8.5</td>\n",
       "      <td>99048</td>\n",
       "      <td>160973</td>\n",
       "    </tr>\n",
       "    <tr>\n",
       "      <th>3</th>\n",
       "      <td>Exeter</td>\n",
       "      <td>5.0</td>\n",
       "      <td>4.5</td>\n",
       "      <td>NaN</td>\n",
       "      <td>75.0</td>\n",
       "      <td>NaN</td>\n",
       "      <td>53241</td>\n",
       "      <td>93152</td>\n",
       "    </tr>\n",
       "    <tr>\n",
       "      <th>4</th>\n",
       "      <td>Manchester</td>\n",
       "      <td>34.0</td>\n",
       "      <td>NaN</td>\n",
       "      <td>NaN</td>\n",
       "      <td>100.0</td>\n",
       "      <td>34.0</td>\n",
       "      <td>133508</td>\n",
       "      <td>264714</td>\n",
       "    </tr>\n",
       "    <tr>\n",
       "      <th>5</th>\n",
       "      <td>Sheffield</td>\n",
       "      <td>13.0</td>\n",
       "      <td>13.0</td>\n",
       "      <td>0.0</td>\n",
       "      <td>80.0</td>\n",
       "      <td>13.0</td>\n",
       "      <td>93415</td>\n",
       "      <td>170949</td>\n",
       "    </tr>\n",
       "    <tr>\n",
       "      <th>6</th>\n",
       "      <td>Oxford</td>\n",
       "      <td>7.0</td>\n",
       "      <td>6.0</td>\n",
       "      <td>1.0</td>\n",
       "      <td>100.0</td>\n",
       "      <td>0.0</td>\n",
       "      <td>633554</td>\n",
       "      <td>1029322</td>\n",
       "    </tr>\n",
       "    <tr>\n",
       "      <th>7</th>\n",
       "      <td>Cambridge</td>\n",
       "      <td>6.0</td>\n",
       "      <td>6.0</td>\n",
       "      <td>NaN</td>\n",
       "      <td>90.0</td>\n",
       "      <td>5.0</td>\n",
       "      <td>579419</td>\n",
       "      <td>849269</td>\n",
       "    </tr>\n",
       "    <tr>\n",
       "      <th>8</th>\n",
       "      <td>Newcastle</td>\n",
       "      <td>15.0</td>\n",
       "      <td>13.0</td>\n",
       "      <td>0.5</td>\n",
       "      <td>80.0</td>\n",
       "      <td>5.0</td>\n",
       "      <td>75776</td>\n",
       "      <td>97723</td>\n",
       "    </tr>\n",
       "    <tr>\n",
       "      <th>9</th>\n",
       "      <td>Durham</td>\n",
       "      <td>8.0</td>\n",
       "      <td>6.5</td>\n",
       "      <td>1.0</td>\n",
       "      <td>62.5</td>\n",
       "      <td>4.0</td>\n",
       "      <td>41671</td>\n",
       "      <td>45257</td>\n",
       "    </tr>\n",
       "    <tr>\n",
       "      <th>10</th>\n",
       "      <td>Imperial</td>\n",
       "      <td>5.0</td>\n",
       "      <td>3.5</td>\n",
       "      <td>0.1</td>\n",
       "      <td>70.0</td>\n",
       "      <td>5.0</td>\n",
       "      <td>154290</td>\n",
       "      <td>347692</td>\n",
       "    </tr>\n",
       "  </tbody>\n",
       "</table>\n",
       "</div>"
      ],
      "text/plain": [
       "    Institution  Total FTEs  Project FTEs  Training FTEs  Cost recovery  \\\n",
       "0           UCL        30.0           NaN            NaN          100.0   \n",
       "1   Southampton         8.0           NaN            NaN          100.0   \n",
       "2       Bristol        10.5           NaN            NaN          100.0   \n",
       "3        Exeter         5.0           4.5            NaN           75.0   \n",
       "4    Manchester        34.0           NaN            NaN          100.0   \n",
       "5     Sheffield        13.0          13.0            0.0           80.0   \n",
       "6        Oxford         7.0           6.0            1.0          100.0   \n",
       "7     Cambridge         6.0           6.0            NaN           90.0   \n",
       "8     Newcastle        15.0          13.0            0.5           80.0   \n",
       "9        Durham         8.0           6.5            1.0           62.5   \n",
       "10     Imperial         5.0           3.5            0.1           70.0   \n",
       "\n",
       "    Open-ended FTE  Funding body grants  Research grants and contracts  \n",
       "0             30.0               227992                         467714  \n",
       "1              3.0                78491                         119950  \n",
       "2              8.5                99048                         160973  \n",
       "3              NaN                53241                          93152  \n",
       "4             34.0               133508                         264714  \n",
       "5             13.0                93415                         170949  \n",
       "6              0.0               633554                        1029322  \n",
       "7              5.0               579419                         849269  \n",
       "8              5.0                75776                          97723  \n",
       "9              4.0                41671                          45257  \n",
       "10             5.0               154290                         347692  "
      ]
     },
     "execution_count": 3,
     "metadata": {},
     "output_type": "execute_result"
    }
   ],
   "source": [
    "data"
   ]
  },
  {
   "cell_type": "markdown",
   "id": "b2f09ab1",
   "metadata": {},
   "source": [
    "## Comparison of group size between institutions"
   ]
  },
  {
   "cell_type": "code",
   "execution_count": 4,
   "id": "943886c0",
   "metadata": {},
   "outputs": [
    {
     "data": {
      "text/plain": [
       "<AxesSubplot:xlabel='Institution'>"
      ]
     },
     "execution_count": 4,
     "metadata": {},
     "output_type": "execute_result"
    },
    {
     "data": {
      "image/png": "[encoded data removed]",
      "text/plain": [
       "<Figure size 432x288 with 1 Axes>"
      ]
     },
     "metadata": {
      "needs_background": "light"
     },
     "output_type": "display_data"
    }
   ],
   "source": [
    "data.sort_values(by=\"Total FTEs\").plot.bar(x=\"Institution\", y=\"Total FTEs\")"
   ]
  },
  {
   "cell_type": "markdown",
   "id": "cea30955",
   "metadata": {},
   "source": [
    "## Comparson of number of project FTEs between institutions\n",
    "\n",
    "Missing data where responses did not break down distribution of FTEs"
   ]
  },
  {
   "cell_type": "code",
   "execution_count": 5,
   "id": "25c8e5c0",
   "metadata": {},
   "outputs": [
    {
     "data": {
      "text/plain": [
       "<AxesSubplot:xlabel='Institution'>"
      ]
     },
     "execution_count": 5,
     "metadata": {},
     "output_type": "execute_result"
    },
    {
     "data": {
      "image/png": "[encoded data removed]",
      "text/plain": [
       "<Figure size 432x288 with 1 Axes>"
      ]
     },
     "metadata": {
      "needs_background": "light"
     },
     "output_type": "display_data"
    }
   ],
   "source": [
    "data.sort_values(by=\"Project FTEs\").plot.bar(\"Institution\", y=\"Project FTEs\")"
   ]
  },
  {
   "cell_type": "markdown",
   "id": "a448406d",
   "metadata": {},
   "source": [
    "## Group size vs income from research grants and contracts\n",
    "\n",
    "The following plots attempt to consider RSE group sizes in the context of the scale of research activity at different institutions."
   ]
  },
  {
   "cell_type": "code",
   "execution_count": 6,
   "id": "9746ab03",
   "metadata": {},
   "outputs": [
    {
     "data": {
      "image/png": "[encoded data removed]",
      "text/plain": [
       "<Figure size 432x288 with 1 Axes>"
      ]
     },
     "metadata": {
      "needs_background": "light"
     },
     "output_type": "display_data"
    }
   ],
   "source": [
    "def plot_scatter(data, metric):\n",
    "    ax = data.plot.scatter(x=metric, y=\"Total FTEs\")\n",
    "    for row in data[[\"Institution\", metric, \"Total FTEs\"]].itertuples():\n",
    "        ax.annotate(row[1], row[2:])\n",
    "\n",
    "plot_scatter(data, metric = \"Research grants and contracts\")"
   ]
  },
  {
   "cell_type": "markdown",
   "id": "ff74cdd7",
   "metadata": {},
   "source": [
    "## Group size vs income from funding body grants"
   ]
  },
  {
   "cell_type": "code",
   "execution_count": 7,
   "id": "d7bc82da",
   "metadata": {},
   "outputs": [
    {
     "data": {
      "image/png": "[encoded data removed]",
      "text/plain": [
       "<Figure size 432x288 with 1 Axes>"
      ]
     },
     "metadata": {
      "needs_background": "light"
     },
     "output_type": "display_data"
    }
   ],
   "source": [
    "plot_scatter(data, metric=\"Funding body grants\")"
   ]
  }
 ],
 "metadata": {
  "kernelspec": {
   "display_name": "Python 3 (ipykernel)",
   "language": "python",
   "name": "python3"
  },
  "language_info": {
   "codemirror_mode": {
    "name": "ipython",
    "version": 3
   },
   "file_extension": ".py",
   "mimetype": "text/x-python",
   "name": "python",
   "nbconvert_exporter": "python",
   "pygments_lexer": "ipython3",
   "version": "3.9.7"
  }
 },
 "nbformat": 4,
 "nbformat_minor": 5
}
